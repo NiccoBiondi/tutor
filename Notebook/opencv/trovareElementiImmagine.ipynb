{
 "cells": [
  {
   "cell_type": "markdown",
   "metadata": {},
   "source": [
    "# TROVARE ELEMNTI ALL'INTERNO DELLE IMMAGINI \n",
    "\n",
    "L'utilizzo delle componenti connesse all'interno di un immagine ci permette di identificare i singoli caratteri all'interno di immagini"
   ]
  },
  {
   "cell_type": "markdown",
   "metadata": {},
   "source": [
    "### Ricavare componenti connesse"
   ]
  },
  {
   "cell_type": "code",
   "execution_count": 7,
   "metadata": {},
   "outputs": [],
   "source": [
    "import cv2\n",
    "import numpy as np\n",
    "\n",
    "fileName = 'honda.jpg'\n",
    "nameFileSave = 'hondaducatiComp.png'\n",
    "\n",
    "connectivity = 8\n",
    "img = cv2.imread('./' + fileName, cv2.IMREAD_GRAYSCALE)\n",
    "img = (255 - img)\n",
    "\n",
    "otsu_thr, otsu_mask = cv2.threshold(img, -1, 1, cv2.THRESH_BINARY | cv2.THRESH_OTSU)\n",
    "\n",
    "output = cv2.connectedComponentsWithStats(otsu_mask, connectivity, cv2.CV_32S)\n",
    "num_labels, labelmap, stats, centers = output\n",
    "\n",
    "colored = np.full((img.shape[0], img.shape[1], 3), 0, np.uint8)\n",
    "\n",
    "for l in range(1, num_labels):\n",
    "        colored[labelmap==l] = (0, 255*l/num_labels, 255*num_labels/l)\n",
    "        cv2.circle(colored, (int(centers[1][0]), int(centers[1][1])), 5, (255, 0, 0), cv2.FILLED)\n",
    "\n",
    "img = cv2.cvtColor(otsu_mask*255, cv2.COLOR_GRAY2BGR)\n",
    "img = (255 - img)\n",
    "\n",
    "cv2.imwrite(nameFileSave, img)\n",
    "#cv2.imwrite('tmp.png', np.hstack((img, colored)))\n",
    "#cv2.imshow('con comp', np.hstack((img, colored)))\n",
    "cv2.imshow('con comp', img)\n",
    "cv2.waitKey()\n",
    "cv2.destroyAllWindows()"
   ]
  },
  {
   "cell_type": "markdown",
   "metadata": {},
   "source": [
    "### Visualizzare l'immagine trovata dalle componenti connesse "
   ]
  },
  {
   "cell_type": "code",
   "execution_count": 8,
   "metadata": {},
   "outputs": [],
   "source": [
    "im_gray = cv2.imread('./' + nameFileSave, cv2.IMREAD_GRAYSCALE)\n",
    "#im_gray = (255 - im_gray)\n",
    "(thresh, im_bw) = cv2.threshold(im_gray, 128, 255, cv2.THRESH_BINARY | cv2.THRESH_OTSU)\n",
    "im_bw = cv2.threshold(im_gray, thresh, 255, cv2.THRESH_BINARY)[1]\n",
    "cv2.imshow('image.png', im_bw)\n",
    "cv2.waitKey()\n",
    "cv2.destroyAllWindows()"
   ]
  },
  {
   "cell_type": "markdown",
   "metadata": {},
   "source": [
    "### Stampa e salva immagine dove ogni elemento è all'interno di un quadrato"
   ]
  },
  {
   "cell_type": "code",
   "execution_count": 9,
   "metadata": {},
   "outputs": [],
   "source": [
    "imageQuadr = 'hondaQuadr.png'\n",
    "\n",
    "img = cv2.imread('./' + nameFileSave)\n",
    "(h, w) = img.shape[:2]\n",
    "image_size = h*w\n",
    "mser = cv2.MSER_create()\n",
    "mser.setMaxArea(int(image_size/2))\n",
    "mser.setMinArea(10)\n",
    "\n",
    "gray = cv2.cvtColor(img, cv2.COLOR_BGR2GRAY) #Converting to GrayScale\n",
    "_, bw = cv2.threshold(gray, 0.0, 255.0, cv2.THRESH_BINARY | cv2.THRESH_OTSU)\n",
    "\n",
    "regions, rects = mser.detectRegions(bw)\n",
    "\n",
    "# With the rects you can e.g. crop the letters\n",
    "for (x, y, w, h) in rects:\n",
    "    cv2.rectangle(img, (x, y), (x+w, y+h), color=(255, 0, 255), thickness=1)\n",
    "cv2.imwrite(imageQuadr , img)\n",
    "cv2.imshow('image.png', img)\n",
    "cv2.waitKey()\n",
    "cv2.destroyAllWindows()"
   ]
  },
  {
   "cell_type": "markdown",
   "metadata": {},
   "source": [
    "### Salvare ogni singolo carattere"
   ]
  },
  {
   "cell_type": "code",
   "execution_count": 11,
   "metadata": {},
   "outputs": [],
   "source": [
    "path = './lettere/'\n",
    "\n",
    "img = cv2.imread(\"./\" + nameFileSave)\n",
    "imgGray = cv2.cvtColor(img, cv2.COLOR_RGB2GRAY)\n",
    "\n",
    "ret, imgThresh = cv2.threshold(imgGray, 127, 255, 0)\n",
    "contours , hierarchy  = cv2.findContours(imgThresh, cv2.RETR_LIST, cv2.CHAIN_APPROX_SIMPLE)\n",
    "\n",
    "lstBoundingBoxes = []\n",
    "for cnt in contours: lstBoundingBoxes.append(cv2.boundingRect(cnt))\n",
    "lstBoundingBoxes.sort()\n",
    "\n",
    "charNo=0\n",
    "for item in lstBoundingBoxes[1:]:\n",
    "    charNo += 1\n",
    "    fName = path + \"char\" + str(charNo).zfill(2) + \".png\"; \n",
    "    x,y,w,h = item\n",
    "    if(w > 30 or h > 30):\n",
    "        cv2.imwrite(fName, img[y:y+h, x:x+w])\n",
    "        #cv2.imshow('image.png', img[y:y+h, x:x+w])\n",
    "        #cv2.waitKey()"
   ]
  },
  {
   "cell_type": "code",
   "execution_count": null,
   "metadata": {},
   "outputs": [],
   "source": []
  }
 ],
 "metadata": {
  "kernelspec": {
   "display_name": "Python 3",
   "language": "python",
   "name": "python3"
  },
  "language_info": {
   "codemirror_mode": {
    "name": "ipython",
    "version": 3
   },
   "file_extension": ".py",
   "mimetype": "text/x-python",
   "name": "python",
   "nbconvert_exporter": "python",
   "pygments_lexer": "ipython3",
   "version": "3.7.1"
  }
 },
 "nbformat": 4,
 "nbformat_minor": 2
}
