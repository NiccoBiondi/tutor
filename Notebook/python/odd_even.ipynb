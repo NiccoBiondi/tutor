{
 "cells": [
  {
   "cell_type": "code",
   "execution_count": 3,
   "metadata": {},
   "outputs": [],
   "source": [
    "import random"
   ]
  },
  {
   "cell_type": "code",
   "execution_count": 37,
   "metadata": {},
   "outputs": [
    {
     "name": "stdout",
     "output_type": "stream",
     "text": [
      "43\n",
      "20\n"
     ]
    }
   ],
   "source": [
    "x = int(random.random() * 100)\n",
    "y = int(random.random() * 100)\n",
    "print(x)\n",
    "print(y)"
   ]
  },
  {
   "cell_type": "code",
   "execution_count": 38,
   "metadata": {},
   "outputs": [
    {
     "name": "stdout",
     "output_type": "stream",
     "text": [
      "il numero più grande è  43\n"
     ]
    }
   ],
   "source": [
    "par_x = x & 1\n",
    "par_y = y & 1\n",
    "\n",
    "if (par_x == 0 and par_y == 0):\n",
    "    print(\"x e y sono pari\")\n",
    "    result = x + y\n",
    "    print(\"la somma è \", result)\n",
    "elif (par_x == 1 and par_y == 1):\n",
    "    print(\"x e y sono dispari\")\n",
    "    result = x - y\n",
    "    print(\"la differenza è \", result)\n",
    "else: \n",
    "    result = max(x, y)\n",
    "    print(\"il numero più grande è \", x)"
   ]
  },
  {
   "cell_type": "code",
   "execution_count": null,
   "metadata": {},
   "outputs": [],
   "source": []
  }
 ],
 "metadata": {
  "kernelspec": {
   "display_name": "Python 3",
   "language": "python",
   "name": "python3"
  },
  "language_info": {
   "codemirror_mode": {
    "name": "ipython",
    "version": 3
   },
   "file_extension": ".py",
   "mimetype": "text/x-python",
   "name": "python",
   "nbconvert_exporter": "python",
   "pygments_lexer": "ipython3",
   "version": "3.7.1"
  }
 },
 "nbformat": 4,
 "nbformat_minor": 2
}
