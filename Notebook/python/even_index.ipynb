{
 "cells": [
  {
   "cell_type": "code",
   "execution_count": 2,
   "metadata": {},
   "outputs": [],
   "source": [
    "import numpy as np\n",
    "import random"
   ]
  },
  {
   "cell_type": "code",
   "execution_count": 19,
   "metadata": {},
   "outputs": [
    {
     "name": "stdout",
     "output_type": "stream",
     "text": [
      "list1 :  [8, 8, 5, 14, 4, 17, 7, 17, 5, 10, 11, 1, 8, 8, 8, 16, 16, 14, 18, 15]\n"
     ]
    }
   ],
   "source": [
    "list1 = []\n",
    "len = 20\n",
    "\n",
    "for i in range(len):\n",
    "    x = random.randint(1, 20)\n",
    "    list1.append(x)\n",
    "    \n",
    "print(\"list1 : \", list1)"
   ]
  },
  {
   "cell_type": "code",
   "execution_count": 20,
   "metadata": {},
   "outputs": [
    {
     "name": "stdout",
     "output_type": "stream",
     "text": [
      "[16, 10, 8, 14, 10, 22, 16, 16, 32, 36]\n"
     ]
    }
   ],
   "source": [
    "list = []\n",
    "\n",
    "for k in range(int(len/2)):\n",
    "    list.append(list1[2*k])\n",
    "    list[k] = 2 * list[k]\n",
    "print(list)"
   ]
  },
  {
   "cell_type": "code",
   "execution_count": null,
   "metadata": {},
   "outputs": [],
   "source": []
  }
 ],
 "metadata": {
  "kernelspec": {
   "display_name": "Python 3",
   "language": "python",
   "name": "python3"
  },
  "language_info": {
   "codemirror_mode": {
    "name": "ipython",
    "version": 3
   },
   "file_extension": ".py",
   "mimetype": "text/x-python",
   "name": "python",
   "nbconvert_exporter": "python",
   "pygments_lexer": "ipython3",
   "version": "3.7.1"
  }
 },
 "nbformat": 4,
 "nbformat_minor": 2
}
