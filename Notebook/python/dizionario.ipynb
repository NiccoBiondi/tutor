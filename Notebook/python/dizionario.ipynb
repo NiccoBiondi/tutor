{
 "cells": [
  {
   "cell_type": "markdown",
   "metadata": {},
   "source": [
    "# Esercizio 1"
   ]
  },
  {
   "cell_type": "markdown",
   "metadata": {},
   "source": [
    "Si legga il file di testo **es1.txt** in cui si dovranno sosituire attraverso l'utilizzo di un dizionario i seguenti campi:\n",
    "\n",
    "1. Nome\n",
    "2. Cognome\n",
    "3. DataNascita\n",
    "4. LuogoNascita"
   ]
  },
  {
   "cell_type": "code",
   "execution_count": 26,
   "metadata": {},
   "outputs": [
    {
     "name": "stdout",
     "output_type": "stream",
     "text": [
      "Io Nome Cognome nato a LuogoNascita il DataNascita \n"
     ]
    }
   ],
   "source": [
    "file = \"es1.txt\"\n",
    "file = open(file, 'r')\n",
    "\n",
    "for line in file:\n",
    "    print(line)\n",
    "file.close()"
   ]
  },
  {
   "cell_type": "code",
   "execution_count": 28,
   "metadata": {},
   "outputs": [
    {
     "name": "stdout",
     "output_type": "stream",
     "text": [
      "{'Nome': 'Niccolò', 'Cognome': 'Biondi', 'LuogoNascita': 'Firenze', 'DataNascita': '5-12-1995', 'Squadra': 'Juventus'}\n"
     ]
    }
   ],
   "source": [
    "dizionario = {'Nome':'Niccolò',\n",
    "             'Cognome':'Biondi',\n",
    "             'LuogoNascita':'Firenze',\n",
    "             'DataNascita':'5-12-1995',\n",
    "             'Squadra':'Juventus'}\n",
    "print(dizionario)"
   ]
  },
  {
   "cell_type": "code",
   "execution_count": 63,
   "metadata": {},
   "outputs": [
    {
     "name": "stdout",
     "output_type": "stream",
     "text": [
      "mi chiamo Nome Cognome sono nato il DataNascita a LuogoNascita e tifo per Juventus\n"
     ]
    }
   ],
   "source": [
    "file = open('es1.txt', 'r+')\n",
    "\n",
    "for line in file.readlines():\n",
    "    print(line)\n",
    "file.close()"
   ]
  },
  {
   "cell_type": "code",
   "execution_count": 54,
   "metadata": {},
   "outputs": [],
   "source": [
    "file = open('es1.txt', 'r+')\n",
    "keys = list(dizionario.keys())\n",
    "for key in list(dizionario.keys()):\n",
    "    line = file.read()\n",
    "    new_line = line.replace(key, dizionario.get(key))\n",
    "    file.write(new_line)\n",
    "\n",
    "file.close()"
   ]
  },
  {
   "cell_type": "code",
   "execution_count": 68,
   "metadata": {},
   "outputs": [
    {
     "name": "stdout",
     "output_type": "stream",
     "text": [
      "Nome\n",
      "mi chiamo Niccolò Cognome sono nato il DataNascita a LuogoNascita e tifo per Juventus\n",
      "Cognome\n",
      "mi chiamo Nome Biondi sono nato il DataNascita a LuogoNascita e tifo per Juventus\n",
      "LuogoNascita\n",
      "mi chiamo Nome Cognome sono nato il DataNascita a Firenze e tifo per Juventus\n",
      "DataNascita\n",
      "mi chiamo Nome Cognome sono nato il 5-12-1995 a LuogoNascita e tifo per Juventus\n",
      "Squadra\n",
      "mi chiamo Nome Cognome sono nato il DataNascita a LuogoNascita e tifo per Juventus\n"
     ]
    }
   ],
   "source": [
    "f = open('es1.txt','r')\n",
    "filedata = f.read()\n",
    "f.close()\n",
    "\n",
    "keys = list(dizionario.keys())\n",
    "for key in keys:\n",
    "    print(key)\n",
    "    newdata = filedata.replace(key, dizionario.get(key))\n"
   ]
  },
  {
   "cell_type": "code",
   "execution_count": null,
   "metadata": {},
   "outputs": [],
   "source": []
  }
 ],
 "metadata": {
  "kernelspec": {
   "display_name": "Python 3",
   "language": "python",
   "name": "python3"
  },
  "language_info": {
   "codemirror_mode": {
    "name": "ipython",
    "version": 3
   },
   "file_extension": ".py",
   "mimetype": "text/x-python",
   "name": "python",
   "nbconvert_exporter": "python",
   "pygments_lexer": "ipython3",
   "version": "3.7.1"
  }
 },
 "nbformat": 4,
 "nbformat_minor": 1
}
