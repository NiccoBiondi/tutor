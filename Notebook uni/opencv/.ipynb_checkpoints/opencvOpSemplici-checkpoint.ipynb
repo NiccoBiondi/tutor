{
 "cells": [
  {
   "cell_type": "markdown",
   "metadata": {},
   "source": [
    "# Lettura di immagini e sampa a video"
   ]
  },
  {
   "cell_type": "code",
   "execution_count": 3,
   "metadata": {},
   "outputs": [],
   "source": [
    "import cv2\n",
    "\n",
    "# Stampa a video temporale\n",
    "\n",
    "img = cv2.imread('Lena.png')\n",
    "origin_size = img.shape[0:2]\n",
    "\n",
    "cv2.imshow('image', img)\n",
    "cv2.waitKey(0)\n",
    "cv2.destroyAllWindows()"
   ]
  },
  {
   "cell_type": "markdown",
   "metadata": {},
   "source": [
    "# Trasformate di immagini: resizing e flipping"
   ]
  },
  {
   "cell_type": "code",
   "execution_count": 4,
   "metadata": {},
   "outputs": [
    {
     "name": "stdout",
     "output_type": "stream",
     "text": [
      "original image shape:  (512, 512, 3)\n"
     ]
    }
   ],
   "source": [
    "# Stampa delle dimensioni originali della figura \n",
    "\n",
    "import cv2\n",
    "\n",
    "img = cv2.imread('Lena.png')\n",
    "print('original image shape: ', img.shape)"
   ]
  },
  {
   "cell_type": "code",
   "execution_count": 5,
   "metadata": {},
   "outputs": [
    {
     "name": "stdout",
     "output_type": "stream",
     "text": [
      "resized to 256x128 image shape:  (256, 128, 3)\n"
     ]
    }
   ],
   "source": [
    "# Si ridimesiona la nostra immagine portandola ad una dimensione 256x128\n",
    "width, height = 128, 256\n",
    "resized_img = cv2.resize(img, (width, height))\n",
    "print('resized to 256x128 image shape: ', resized_img.shape)\n",
    "cv2.imshow('image', resized_img)\n",
    "cv2.waitKey(0)\n",
    "cv2.destroyAllWindows()"
   ]
  },
  {
   "cell_type": "code",
   "execution_count": 6,
   "metadata": {},
   "outputs": [
    {
     "name": "stdout",
     "output_type": "stream",
     "text": [
      "image shape:  (256, 128, 3)\n"
     ]
    }
   ],
   "source": [
    "# Ridimensiona l'immagine con multipli delle vecchie dimensioni \n",
    "\n",
    "w_mul, h_mul = 0.25, 0.5\n",
    "resized_img = cv2.resize(img,(0,0), resized_img, w_mul, h_mul)\n",
    "print('image shape: ', resized_img.shape)\n",
    "cv2.imshow('image', resized_img)\n",
    "cv2.waitKey(0)\n",
    "cv2.destroyAllWindows()"
   ]
  },
  {
   "cell_type": "code",
   "execution_count": null,
   "metadata": {},
   "outputs": [],
   "source": [
    "# Si ruota l'immagine intorno all'asse x\n",
    "\n",
    "img_flip_along_x = cv2.flip(img, 0)\n",
    "cv2.imshow('image', img_flip_along_x)\n",
    "cv2.waitKey(0)\n",
    "cv2.destroyAllWindows()"
   ]
  },
  {
   "cell_type": "code",
   "execution_count": null,
   "metadata": {},
   "outputs": [],
   "source": [
    "# Si ruota l'immagine intorno all'asse y\n",
    "\n",
    "img_flip_along_y = cv2.flip(img, 1)\n",
    "cv2.imshow('image', img_flip_along_y)\n",
    "cv2.waitKey(0)\n",
    "cv2.destroyAllWindows()"
   ]
  },
  {
   "cell_type": "code",
   "execution_count": null,
   "metadata": {},
   "outputs": [],
   "source": [
    "# Si ruota l'immagine intorno all'asse x e y contemporaneamente \n",
    "\n",
    "img_flip_along_xy = cv2.flip(img, -1)\n",
    "cv2.imshow('image', img_flip_along_xy)\n",
    "cv2.waitKey(0)\n",
    "cv2.destroyAllWindows()"
   ]
  },
  {
   "cell_type": "code",
   "execution_count": null,
   "metadata": {},
   "outputs": [],
   "source": []
  },
  {
   "cell_type": "code",
   "execution_count": null,
   "metadata": {},
   "outputs": [],
   "source": []
  }
 ],
 "metadata": {
  "kernelspec": {
   "display_name": "Python 3",
   "language": "python",
   "name": "python3"
  },
  "language_info": {
   "codemirror_mode": {
    "name": "ipython",
    "version": 3
   },
   "file_extension": ".py",
   "mimetype": "text/x-python",
   "name": "python",
   "nbconvert_exporter": "python",
   "pygments_lexer": "ipython3",
   "version": "3.7.1"
  }
 },
 "nbformat": 4,
 "nbformat_minor": 1
}
