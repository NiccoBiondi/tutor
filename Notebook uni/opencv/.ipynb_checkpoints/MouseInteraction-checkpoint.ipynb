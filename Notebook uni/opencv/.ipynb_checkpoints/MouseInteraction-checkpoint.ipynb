{
 "cells": [
  {
   "cell_type": "code",
   "execution_count": 21,
   "metadata": {},
   "outputs": [],
   "source": [
    "import cv2\n",
    "import numpy as np"
   ]
  },
  {
   "cell_type": "code",
   "execution_count": 22,
   "metadata": {},
   "outputs": [],
   "source": [
    "image = cv2.imread('./Lena.png')\n",
    "cv2.namedWindow('Lena')\n",
    "cv2.imshow('Lena',image)\n",
    "cv2.waitKey()\n",
    "cv2.destroyAllWindows()\n",
    "image_to_show = np.copy(image)"
   ]
  },
  {
   "cell_type": "code",
   "execution_count": 29,
   "metadata": {},
   "outputs": [],
   "source": [
    "def show_fig(img):\n",
    "    cv2.namedWindow('wiw')\n",
    "    cv2.imshow('wiw',img)\n",
    "    cv2.waitKey()\n",
    "    cv2.destroyAllWindows()"
   ]
  },
  {
   "cell_type": "code",
   "execution_count": 33,
   "metadata": {},
   "outputs": [],
   "source": [
    "width, height = 1024, 1024\n",
    "\n",
    "image_to_show = cv2.resize(image_to_show, (width, height))\n",
    "show_fig(image_to_show)"
   ]
  },
  {
   "cell_type": "code",
   "execution_count": 35,
   "metadata": {},
   "outputs": [],
   "source": [
    "w_mult, h_mult = 0.25, 0.5\n",
    "\n",
    "resized_img = cv2.resize(image_to_show, (0,0), image_to_show, w_mult, h_mult)\n",
    "show_fig(resized_img)\n",
    "\n",
    "w_mult, h_mult = 2, 4\n",
    "resized_img = cv2.resize(image_to_show, (0,0), image_to_show, w_mult, h_mult, cv2.INTER_NEAREST)\n"
   ]
  },
  {
   "cell_type": "code",
   "execution_count": null,
   "metadata": {},
   "outputs": [],
   "source": []
  }
 ],
 "metadata": {
  "kernelspec": {
   "display_name": "Python 3",
   "language": "python",
   "name": "python3"
  },
  "language_info": {
   "codemirror_mode": {
    "name": "ipython",
    "version": 3
   },
   "file_extension": ".py",
   "mimetype": "text/x-python",
   "name": "python",
   "nbconvert_exporter": "python",
   "pygments_lexer": "ipython3",
   "version": "3.7.1"
  }
 },
 "nbformat": 4,
 "nbformat_minor": 2
}
