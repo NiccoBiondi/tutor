{
 "cells": [
  {
   "cell_type": "markdown",
   "metadata": {},
   "source": [
    "# Markdown jupyter notebook\n",
    "\n",
    "\n",
    "Jupyter notebook permette, oltre alla scrittura di semplici notebook contenenti codice, di creare notebook in cui all'interno può essere inserito testo illustrativo mischiato a codice eseguibile. \n",
    "Per far ciò, una volta aperto un nuovo notebook in Python3, si deve decidere che tipo di cella si vuole utilizzare. Infatti ci sono tre tipi di celle:\n",
    "1. Code: in questo caso la cella dovrà contenere codice python che, una volta premuto il pulsante 'Run' verrà eseguito;\n",
    "2. Markdown: la cella selezionata conterra del testo che verra poi stampato una volta premuto il tasto 'Run'\n",
    "\n",
    "Quindi per selezionare l'opzione 'Markdown', una volta selezionata la cella, si deve cliccare il pulsante 'Cell' sopra il tasto 'Run'. Apparirà una finestra in cui c'è l'opzione 'Cell Type', passandoci sopra con il mouse porete selezionare l'opzione 'Markdown'.\n",
    "\n",
    "Un modo più veloce è selezionare questa opzione dal menù che si trova a destra del comando 'restart the kernel' raffigurato dalle doppie freccie verso a detra."
   ]
  },
  {
   "cell_type": "markdown",
   "metadata": {},
   "source": [
    "## Titoli e sottotitoli\n",
    "\n",
    "Si può aggiungere un titolo o un sottotitolo aggiungendo # (o due #) all'inizio di una frase seguiti da uno spazio\n",
    "\n",
    "Es :  \n",
    "      # Titolo paragrafo\n",
    "      ## Sottotitolo 1 \n",
    "      ## Sottotitolo 2 "
   ]
  },
  {
   "cell_type": "markdown",
   "metadata": {},
   "source": [
    "## Inserire codice\n",
    "\n",
    "Nella scrittura di un Notebook tal volta, prima di inserire del codice eseguibile, si puo inserire pezzi di codice nella descrizione di ciò che si sta facendo. Questo di può fare sia con codice in Python :\n",
    "\n",
    "\n",
    "       for i in range(0,7):\n",
    "           print(i)\n",
    "\n",
    "\n",
    "sia con altri linguaggi (es c++):\n",
    "\n",
    "\n",
    "        for(int i = 0; i < 7; i++){\n",
    "           std::cout<< i << endl;\n",
    "        }\n",
    "        \n",
    " "
   ]
  },
  {
   "cell_type": "markdown",
   "metadata": {},
   "source": [
    "## Stile del testo e colore \n",
    "\n",
    "Tal volta è utile evidenziare del testo scrivendolo in modo diverso rispetto a quello scritto precedentemente.\n",
    "Per far ciò è possibile modificare lo stile del testo scrivendolo in __grassetto__  oppure scrivendo in _italic_ atraverso l'utilizzo del  una volta prima e dopo la parola/frase che si intende scrivere. Un'altra cosa che si può fare è colorare il testo atraverso il comando <font color=blue|red|green|yellow>Testo<font>."
   ]
  },
  {
   "cell_type": "markdown",
   "metadata": {},
   "source": [
    "## Equazioni matematiche \n",
    "\n",
    "Con il Markdown è possibile scrivere delle formule matematiche, in modo da poter descrivere il loro funzionamento prima che vengano scritte in codice Python. Per far cio viene usato il simbolo del $ per scrivere semplici espressioni, come ad esempio \n",
    "\n",
    "$e^{i\\pi} + 1 = 0$ \n",
    "\n",
    "oppure usando il simbolo del doppio dollaro $$ per scrivere espressioni più lunghe e complicate, come ad esempio\n",
    "\n",
    "$$e^x = sum_{i=0}^\\infty \\frac{1}{i!}x^i$$\n",
    "\n",
    "I simboli matematici più comuni sono:\n",
    "1. sum_{i=0}^{numero} o sum_{i = 0}^\\infty : definisce una sommatoria, la prima da 0 fino a un numero, la seconda da zero a infinito;\n",
    "2. e^{numero} definisce l'esponenziale elevato per un numero;\n",
    "3. \\frac{numero}{numero} definisce la frazione tra un numero o espressione e un numero o espressione\n",
    "4. pi è il simbolo del pigreco "
   ]
  },
  {
   "cell_type": "markdown",
   "metadata": {},
   "source": [
    "## Inserire immagini e documenti \n",
    "\n",
    "### Documenti \n",
    "\n",
    "Se nella cartella in cui si sta creando il notebook ci sono file, si può fare riferimento a questi nelle celle di Markdown direttamente: \n",
    "\n",
    "[Slide su Python](files/docs/python-slides.pdf)\n",
    "\n",
    "### Immagini \n",
    "\n",
    "Si può anche importare immagini e visualizzarle:\n",
    "\n",
    "<img src=\"files/docs/Python.png\"/>\n",
    "\n"
   ]
  },
  {
   "cell_type": "code",
   "execution_count": null,
   "metadata": {},
   "outputs": [],
   "source": []
  }
 ],
 "metadata": {
  "kernelspec": {
   "display_name": "Python 3",
   "language": "python",
   "name": "python3"
  },
  "language_info": {
   "codemirror_mode": {
    "name": "ipython",
    "version": 3
   },
   "file_extension": ".py",
   "mimetype": "text/x-python",
   "name": "python",
   "nbconvert_exporter": "python",
   "pygments_lexer": "ipython3",
   "version": "3.7.1"
  }
 },
 "nbformat": 4,
 "nbformat_minor": 2
}
