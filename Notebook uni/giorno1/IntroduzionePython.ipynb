{
 "cells": [
  {
   "cell_type": "code",
   "execution_count": 1,
   "metadata": {},
   "outputs": [],
   "source": [
    "# esempi di cicli, stringhe e operazioni tra variabili"
   ]
  },
  {
   "cell_type": "code",
   "execution_count": 1,
   "metadata": {},
   "outputs": [
    {
     "name": "stdout",
     "output_type": "stream",
     "text": [
      "1\n",
      "2\n",
      "3\n",
      "4\n"
     ]
    }
   ],
   "source": [
    "# Ciclo for\n",
    "\n",
    "for i in (1,2,3,4):\n",
    "    print(i)\n",
    "    "
   ]
  },
  {
   "cell_type": "code",
   "execution_count": 3,
   "metadata": {},
   "outputs": [
    {
     "name": "stdout",
     "output_type": "stream",
     "text": [
      "Somma tra stringhe : \n",
      "Hello Giulio\n",
      "\n",
      " Ripetizione :\n",
      "HelloHelloHello\n",
      "\n",
      " Indicizzamento stringhe :\n",
      "l\n",
      "\n",
      " Cercare elemento in stringa : \n",
      "True\n",
      "\n"
     ]
    }
   ],
   "source": [
    "# Stringhe operazioni e definizione\n",
    "\n",
    "string = \"Hello\"\n",
    "name = \"Giulio\"\n",
    "\n",
    "print(\"Somma tra stringhe : \")\n",
    "\n",
    "saluto = string + ' ' + name\n",
    "\n",
    "print(saluto)\n",
    "\n",
    "print()\n",
    "\n",
    "print(\" Ripetizione :\")\n",
    "\n",
    "print(string*3)\n",
    "\n",
    "print()\n",
    "\n",
    "print(\" Indicizzamento stringhe :\")\n",
    "\n",
    "print(string[3])\n",
    "\n",
    "print()\n",
    "\n",
    "print(\" Cercare elemento in stringa : \")\n",
    "\n",
    "print(\"o\" in string)\n",
    "\n",
    "print()"
   ]
  },
  {
   "cell_type": "code",
   "execution_count": 4,
   "metadata": {},
   "outputs": [
    {
     "name": "stdout",
     "output_type": "stream",
     "text": [
      " la somma tra x e y è : 8\n",
      " la moltiplicazione tra x e y è : 15\n",
      " la divisione tra x e y è : 1.6666666666666667\n"
     ]
    }
   ],
   "source": [
    "# Numeri e Operazioni \n",
    "x = 5 \n",
    "y = 3 \n",
    "\n",
    "somma = x + y\n",
    "mul = x * y \n",
    "div = x / y\n",
    "\n",
    "print(\" la somma tra x e y è : \" + str(somma))\n",
    "print(\" la moltiplicazione tra x e y è : \" + str(mul))\n",
    "print(\" la divisione tra x e y è : \" + str(div))\n",
    "\n",
    "      \n",
    "      \n",
    "      "
   ]
  },
  {
   "cell_type": "code",
   "execution_count": 5,
   "metadata": {},
   "outputs": [
    {
     "name": "stdout",
     "output_type": "stream",
     "text": [
      "elemento di numeri = 0\n",
      "elemento di numeri = 1\n",
      "elemento di numeri = 2\n",
      "elemento di numeri = 3\n",
      "elemento di numeri = 4\n",
      "elemento di numeri = 5\n",
      "\n",
      "elemento di parole = algoritmi\n",
      "elemento di parole = strutture\n",
      "\n",
      "elemento di combino = 12\n",
      "elemento di combino = 23\n",
      "elemento di combino = ['testa', 'croce']\n",
      "elemento di combino = algoritmi\n",
      "elemento di combino = strutture\n"
     ]
    }
   ],
   "source": [
    "# Liste\n",
    "\n",
    "numeri = [0, 1, 2, 3, 4, 5]\n",
    "parole = ['algoritmi', 'strutture']\n",
    "combino = [12, 23, ['testa', 'croce']] + parole\n",
    "\n",
    "for elementi in numeri:\n",
    "    print(\"elemento di numeri = \" + str(elementi))\n",
    "\n",
    "print()\n",
    "\n",
    "for elementi in parole:\n",
    "    print(\"elemento di parole = \" + elementi)\n",
    "    \n",
    "print()\n",
    "\n",
    "for elementi in combino:\n",
    "    print(\"elemento di combino = \" + str(elementi))"
   ]
  },
  {
   "cell_type": "code",
   "execution_count": 20,
   "metadata": {},
   "outputs": [
    {
     "name": "stdout",
     "output_type": "stream",
     "text": [
      "mylist [8, 9, 9, 3, 1, 8, 0, 6, 3, 7]\n",
      "posizioni dispari [9, 3, 8, 6, 7]\n",
      "posizioni pari [8, 9, 1, 0, 3]\n"
     ]
    }
   ],
   "source": [
    "import random\n",
    "\n",
    "# Creazione di una lista con elementi random \n",
    "mylist = []\n",
    "for num in range(10):\n",
    "    x = random.randint(0, 10)\n",
    "    mylist.append(x)\n",
    "\n",
    "print(\"mylist\",mylist)\n",
    "\n",
    "print(\"posizioni dispari\",mylist[1::2])\n",
    "\n",
    "print(\"posizioni pari\", mylist[0::2])"
   ]
  },
  {
   "cell_type": "code",
   "execution_count": 7,
   "metadata": {},
   "outputs": [
    {
     "name": "stdout",
     "output_type": "stream",
     "text": [
      "['iscrivetevi', 'a', 'ingegneria', 'informatica']\n",
      "['informatica', 'ingegneria', 'a', 'iscrivetevi']\n"
     ]
    }
   ],
   "source": [
    "word = []\n",
    "\n",
    "word.append('iscrivetevi')\n",
    "word.append('informatica')\n",
    "word.insert(1, 'a')\n",
    "word.insert(2, 'ingegneria')\n",
    "print(word)\n",
    "\n",
    "word.reverse()\n",
    "print(word)"
   ]
  },
  {
   "cell_type": "code",
   "execution_count": 24,
   "metadata": {},
   "outputs": [
    {
     "name": "stdout",
     "output_type": "stream",
     "text": [
      "{'ora': '14:17', 'aula': 109, 'n_prof': 1, 'n_tutor': 3}\n",
      "dict_keys(['ora', 'aula', 'n_prof', 'n_tutor'])\n",
      "dict_values(['14:17', 109, 1, 3])\n",
      "il valore relativo alla chiave aula è:  109\n"
     ]
    }
   ],
   "source": [
    "from time import localtime, strftime\n",
    "\n",
    "orario = strftime(\"%H:%M\", localtime())\n",
    "\n",
    "dizionario = {'ora':orario, \n",
    "              'aula':109,\n",
    "              'n_prof':1,\n",
    "              'n_tutor':3              \n",
    "             }\n",
    "\n",
    "# Stampa del dizionario\n",
    "print(dizionario)\n",
    "\n",
    "# Stampa delle chiavi del dizionario\n",
    "print(dizionario.keys())\n",
    "\n",
    "# Stampa dei valori del dizionario\n",
    "print(dizionario.values())\n",
    "\n",
    "# Prende valore relativo ad una chiave del dizionario\n",
    "val = dizionario.get('aula')\n",
    "\n",
    "print(\"il valore relativo alla chiave aula è: \" , val)"
   ]
  },
  {
   "cell_type": "code",
   "execution_count": 25,
   "metadata": {},
   "outputs": [
    {
     "name": "stdout",
     "output_type": "stream",
     "text": [
      "x positivo\n"
     ]
    }
   ],
   "source": [
    "x = random.randint(-5, 5)\n",
    "\n",
    "if x>0 :\n",
    "    print(\"x positivo\")\n",
    "elif x<0 :\n",
    "    print(\"x negativo\")\n",
    "else:\n",
    "    print(\"x nullo\")"
   ]
  },
  {
   "cell_type": "code",
   "execution_count": 31,
   "metadata": {},
   "outputs": [
    {
     "name": "stdout",
     "output_type": "stream",
     "text": [
      "l'array è il seguente: \n",
      " [[ 1  2  3  4]\n",
      " [ 5  6  7  8]\n",
      " [ 9 10 11 12]]\n"
     ]
    }
   ],
   "source": [
    "import numpy as np\n",
    "\n",
    "array = np.array([[1,2,3,4], [5,6,7,8], [9,10,11,12]])\n",
    "print(\"l'array è il seguente: \\n\" ,array)\n"
   ]
  },
  {
   "cell_type": "code",
   "execution_count": 33,
   "metadata": {},
   "outputs": [
    {
     "data": {
      "image/png": "[encoded data removed]",
      "text/plain": [
       "<Figure size 432x288 with 1 Axes>"
      ]
     },
     "metadata": {
      "needs_background": "light"
     },
     "output_type": "display_data"
    }
   ],
   "source": [
    "%matplotlib inline\n",
    "import matplotlib.pyplot as plt\n",
    "\n",
    "# Calcola le coordinate x e y per punti della funzione seno\n",
    "x = np.arange(0, 3 * np.pi, 0.1)\n",
    "y_sin = np.sin(x)\n",
    "y_cos = np.cos(x)\n",
    "\n",
    "# Disegna i punti\n",
    "plt.plot(x, y_cos, 'b')\n",
    "plt.plot(x, y_sin, 'r')\n",
    "\n",
    "# Dà il nome agli assi\n",
    "plt.xlabel('asse x')\n",
    "plt.ylabel('ase y')\n",
    "\n",
    "# Crea il titolo\n",
    "plt.title('Seno e Coseno')\n",
    "plt.legend(['Seno', 'Coseno'])\n",
    "plt.show()"
   ]
  },
  {
   "cell_type": "code",
   "execution_count": 58,
   "metadata": {},
   "outputs": [
    {
     "name": "stdout",
     "output_type": "stream",
     "text": [
      "hello\n",
      "hello world\n",
      "ciao mondo\n"
     ]
    }
   ],
   "source": [
    "filename = 'prova.txt'\n",
    "\n",
    "# Scrivere in un file di testo\n",
    "file = open(filename, 'w')\n",
    "file.write(\"hello\")\n",
    "file.close()\n",
    "\n",
    "# Leggere in un file di testo\n",
    "file = open(filename, 'r')\n",
    "print(file.read())\n",
    "file.close()\n",
    "\n",
    "# Aggiungere frasi ad un file di testo già esistente\n",
    "file = open(filename, 'a+')\n",
    "lines = [' ', 'world']\n",
    "file.writelines(lines)\n",
    "file.close()\n",
    "\n",
    "# Aprire un file in modalità lettura-scrittura\n",
    "file = open(filename, 'r+')\n",
    "line = file.readline()\n",
    "print(line)\n",
    "line = line.replace('hello', 'ciao')\n",
    "line = line.replace('world', 'mondo')\n",
    "print(line)\n",
    "file.close()"
   ]
  },
  {
   "cell_type": "code",
   "execution_count": null,
   "metadata": {},
   "outputs": [],
   "source": []
  },
  {
   "cell_type": "code",
   "execution_count": null,
   "metadata": {},
   "outputs": [],
   "source": []
  }
 ],
 "metadata": {
  "kernelspec": {
   "display_name": "Python 3",
   "language": "python",
   "name": "python3"
  },
  "language_info": {
   "codemirror_mode": {
    "name": "ipython",
    "version": 3
   },
   "file_extension": ".py",
   "mimetype": "text/x-python",
   "name": "python",
   "nbconvert_exporter": "python",
   "pygments_lexer": "ipython3",
   "version": "3.7.1"
  }
 },
 "nbformat": 4,
 "nbformat_minor": 2
}
