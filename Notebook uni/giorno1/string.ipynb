{
 "cells": [
  {
   "cell_type": "code",
   "execution_count": 8,
   "metadata": {},
   "outputs": [
    {
     "name": "stdout",
     "output_type": "stream",
     "text": [
      "<class 'str'> <class 'str'> <class 'int'>\n",
      "CampingLab2019\n"
     ]
    }
   ],
   "source": [
    "s = \"Camping\"\n",
    "s1 = \"Lab\"\n",
    "s2 = 2019\n",
    "\n",
    "print(type(s), type(s1), type(s2))\n",
    "\n",
    "string = s + s1 + str(s2)\n",
    "print(string)"
   ]
  },
  {
   "cell_type": "code",
   "execution_count": 15,
   "metadata": {},
   "outputs": [
    {
     "name": "stdout",
     "output_type": "stream",
     "text": [
      "Campinglab2019\n",
      "CAMPINGLAB2019\n",
      "      CampingLab2019\n",
      "   CampingLab2019   \n",
      "Alternanza2019\n",
      "cAMPINGlAB2019\n"
     ]
    }
   ],
   "source": [
    "print(string.capitalize())\n",
    "print(string.upper())\n",
    "\n",
    "print(string.rjust(20))\n",
    "print(string.center(20))\n",
    "\n",
    "print(string.replace('CampingLab', 'Alternanza'))\n",
    "print(string.swapcase())"
   ]
  },
  {
   "cell_type": "code",
   "execution_count": null,
   "metadata": {},
   "outputs": [],
   "source": []
  }
 ],
 "metadata": {
  "kernelspec": {
   "display_name": "Python 3",
   "language": "python",
   "name": "python3"
  },
  "language_info": {
   "codemirror_mode": {
    "name": "ipython",
    "version": 3
   },
   "file_extension": ".py",
   "mimetype": "text/x-python",
   "name": "python",
   "nbconvert_exporter": "python",
   "pygments_lexer": "ipython3",
   "version": "3.7.1"
  }
 },
 "nbformat": 4,
 "nbformat_minor": 2
}
