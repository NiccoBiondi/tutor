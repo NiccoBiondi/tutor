{
 "cells": [
  {
   "cell_type": "code",
   "execution_count": 47,
   "metadata": {},
   "outputs": [],
   "source": [
    "import math"
   ]
  },
  {
   "cell_type": "code",
   "execution_count": 48,
   "metadata": {},
   "outputs": [],
   "source": [
    "def quadrato_perfetto(num):\n",
    "    rad = math.sqrt(num)\n",
    "    if (rad-int(rad) != 0):\n",
    "        return \"non è un quadrato perfetto\"\n",
    "    else: \n",
    "        return 'è un quadrato perfetto'"
   ]
  },
  {
   "cell_type": "code",
   "execution_count": 49,
   "metadata": {},
   "outputs": [
    {
     "name": "stdout",
     "output_type": "stream",
     "text": [
      "è un quadrato perfetto\n",
      "è un quadrato perfetto\n",
      "non è un quadrato perfetto\n"
     ]
    }
   ],
   "source": [
    "print(quadrato_perfetto(225))\n",
    "print(quadrato_perfetto(4))\n",
    "print(quadrato_perfetto(5))"
   ]
  },
  {
   "cell_type": "code",
   "execution_count": null,
   "metadata": {},
   "outputs": [],
   "source": []
  }
 ],
 "metadata": {
  "kernelspec": {
   "display_name": "Python 3",
   "language": "python",
   "name": "python3"
  },
  "language_info": {
   "codemirror_mode": {
    "name": "ipython",
    "version": 3
   },
   "file_extension": ".py",
   "mimetype": "text/x-python",
   "name": "python",
   "nbconvert_exporter": "python",
   "pygments_lexer": "ipython3",
   "version": "3.7.1"
  }
 },
 "nbformat": 4,
 "nbformat_minor": 2
}
