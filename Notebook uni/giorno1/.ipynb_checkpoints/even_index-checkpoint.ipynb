{
 "cells": [
  {
   "cell_type": "code",
   "execution_count": 2,
   "metadata": {},
   "outputs": [],
   "source": [
    "import numpy as np\n",
    "import random"
   ]
  },
  {
   "cell_type": "code",
   "execution_count": 4,
   "metadata": {},
   "outputs": [
    {
     "name": "stdout",
     "output_type": "stream",
     "text": [
      "list1 :  [16, 18, 20, 14, 14, 14, 19, 18, 10, 16, 19, 18, 13, 12, 12, 20, 11, 15, 11, 12]\n",
      "list2 : [12, 19, 11, 17, 19, 10, 14, 13, 14, 16, 10, 10, 18, 18, 13, 15, 12, 12, 19, 12]\n"
     ]
    }
   ],
   "source": [
    "list1 = []\n",
    "list2 = []\n",
    "\n",
    "len = 20\n",
    "\n",
    "for i in range(len):\n",
    "    x = random.randint(10, 20)\n",
    "    y = random.randint(10, 20)\n",
    "    list1.append(x)\n",
    "    list2.append(y)\n",
    "    \n",
    "print(\"list1 : \", list1)\n",
    "print(\"list2 :\", list2)"
   ]
  },
  {
   "cell_type": "code",
   "execution_count": 14,
   "metadata": {},
   "outputs": [
    {
     "name": "stdout",
     "output_type": "stream",
     "text": [
      "[16, 20, 14, 19, 10, 19, 13, 12, 11, 11]\n"
     ]
    }
   ],
   "source": [
    "list = []\n",
    "\n",
    "for k in range(int(len/2)):\n",
    "    list.append(list1[2*k])\n",
    "    \n",
    "print(list)"
   ]
  },
  {
   "cell_type": "code",
   "execution_count": null,
   "metadata": {},
   "outputs": [],
   "source": []
  }
 ],
 "metadata": {
  "kernelspec": {
   "display_name": "Python 3",
   "language": "python",
   "name": "python3"
  },
  "language_info": {
   "codemirror_mode": {
    "name": "ipython",
    "version": 3
   },
   "file_extension": ".py",
   "mimetype": "text/x-python",
   "name": "python",
   "nbconvert_exporter": "python",
   "pygments_lexer": "ipython3",
   "version": "3.7.1"
  }
 },
 "nbformat": 4,
 "nbformat_minor": 2
}
