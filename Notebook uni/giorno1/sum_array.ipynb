{
 "cells": [
  {
   "cell_type": "code",
   "execution_count": 94,
   "metadata": {},
   "outputs": [],
   "source": [
    "import numpy as np\n",
    "import random"
   ]
  },
  {
   "cell_type": "code",
   "execution_count": 95,
   "metadata": {},
   "outputs": [],
   "source": [
    "def sum(a, b):\n",
    "    if a.shape == b.shape:\n",
    "        c = np.zeros_like(b)\n",
    "        for i in range(len(a)):\n",
    "            for j in range(len(a[0])):\n",
    "                c[i][j] = a[i][j] + b[i][j]\n",
    "        return c\n",
    "    else:\n",
    "        print(\"dimensioni incombatibili\")\n",
    "        return 0 "
   ]
  },
  {
   "cell_type": "code",
   "execution_count": 102,
   "metadata": {},
   "outputs": [
    {
     "name": "stdout",
     "output_type": "stream",
     "text": [
      "[[3.96715953 1.20753572 9.18001777 0.78526203]\n",
      " [8.10110673 9.15483418 7.62207486 6.56992903]\n",
      " [2.4640466  2.56834869 2.63018949 9.68195989]]\n",
      "[[0.51736087 1.04428911 5.51662035 0.55398567]\n",
      " [6.6007304  7.88816455 2.90444647 7.46714028]\n",
      " [8.82100513 7.76198484 6.73036411 8.55376376]]\n"
     ]
    }
   ],
   "source": [
    "a = np.random.random((3, 4)) * 10\n",
    "print(a)\n",
    "\n",
    "b = np.random.random((3, 4)) * 10\n",
    "print(b)"
   ]
  },
  {
   "cell_type": "code",
   "execution_count": 103,
   "metadata": {},
   "outputs": [
    {
     "name": "stdout",
     "output_type": "stream",
     "text": [
      "[[ 4.48452039  2.25182483 14.69663812  1.3392477 ]\n",
      " [14.70183713 17.04299874 10.52652134 14.0370693 ]\n",
      " [11.28505173 10.33033353  9.3605536  18.23572365]]\n"
     ]
    }
   ],
   "source": [
    "c = sum(a, b)\n",
    "print(c)"
   ]
  },
  {
   "cell_type": "code",
   "execution_count": null,
   "metadata": {},
   "outputs": [],
   "source": []
  },
  {
   "cell_type": "code",
   "execution_count": null,
   "metadata": {},
   "outputs": [],
   "source": []
  }
 ],
 "metadata": {
  "kernelspec": {
   "display_name": "Python 3",
   "language": "python",
   "name": "python3"
  },
  "language_info": {
   "codemirror_mode": {
    "name": "ipython",
    "version": 3
   },
   "file_extension": ".py",
   "mimetype": "text/x-python",
   "name": "python",
   "nbconvert_exporter": "python",
   "pygments_lexer": "ipython3",
   "version": "3.7.1"
  }
 },
 "nbformat": 4,
 "nbformat_minor": 2
}
