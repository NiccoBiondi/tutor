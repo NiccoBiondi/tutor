{
 "cells": [
  {
   "cell_type": "code",
   "execution_count": 70,
   "metadata": {},
   "outputs": [],
   "source": [
    "import numpy as np\n",
    "import random"
   ]
  },
  {
   "cell_type": "code",
   "execution_count": 77,
   "metadata": {},
   "outputs": [],
   "source": [
    "def sum(a, b):\n",
    "    if a.shape == b.shape:\n",
    "        c = np.zeros_like(b)\n",
    "        for i in range(len(a)):\n",
    "            for j in range(len(a[0])):\n",
    "                c[i][j] = a[i][j] + b[i][j]\n",
    "        return c\n",
    "    else:\n",
    "        print(\"dimensioni incombatibili\")\n",
    "        return 0 "
   ]
  },
  {
   "cell_type": "code",
   "execution_count": 83,
   "metadata": {},
   "outputs": [
    {
     "ename": "SyntaxError",
     "evalue": "invalid syntax (<ipython-input-83-affe259eea53>, line 1)",
     "output_type": "error",
     "traceback": [
      "\u001b[1;36m  File \u001b[1;32m\"<ipython-input-83-affe259eea53>\"\u001b[1;36m, line \u001b[1;32m1\u001b[0m\n\u001b[1;33m    a = np.array([[1, 3, 4, 5], [2, 3, 4, 12], [3, 12, 213, 41], [5, 2. 6, 7]])\u001b[0m\n\u001b[1;37m                                                                        ^\u001b[0m\n\u001b[1;31mSyntaxError\u001b[0m\u001b[1;31m:\u001b[0m invalid syntax\n"
     ]
    }
   ],
   "source": [
    "a = np.array([[1, 3, 4, 5], [2, 3, 4, 12], [3, 12, 213, 41], [5, 2. 6, 7]])\n",
    "print(a)"
   ]
  },
  {
   "cell_type": "code",
   "execution_count": 90,
   "metadata": {},
   "outputs": [
    {
     "name": "stdout",
     "output_type": "stream",
     "text": [
      "[[ 9.  18.   4.5 12. ]\n",
      " [ 9.  18.   4.5 12. ]\n",
      " [20.  40.  10.  26. ]]\n",
      "[[0.52223665 0.43730569 0.18671857 0.59964532]\n",
      " [0.11955932 0.29555086 0.04124842 0.72497796]\n",
      " [0.67022074 0.94556133 0.47719749 0.98257975]]\n"
     ]
    }
   ],
   "source": [
    "b = []\n",
    "\n",
    "for i in range(len(a)):\n",
    "    var = random.randint(1, 20)\n",
    "    b.append([var, var*2, var/2, int(var*4/3)])\n",
    "b = np.array(b)\n",
    "print(b)\n",
    "b = np.random.random((3, 4))\n",
    "print(b)"
   ]
  },
  {
   "cell_type": "code",
   "execution_count": null,
   "metadata": {},
   "outputs": [],
   "source": [
    "c = sum(a, b)\n",
    "print(c)"
   ]
  },
  {
   "cell_type": "code",
   "execution_count": null,
   "metadata": {},
   "outputs": [],
   "source": []
  },
  {
   "cell_type": "code",
   "execution_count": null,
   "metadata": {},
   "outputs": [],
   "source": []
  }
 ],
 "metadata": {
  "kernelspec": {
   "display_name": "Python 3",
   "language": "python",
   "name": "python3"
  },
  "language_info": {
   "codemirror_mode": {
    "name": "ipython",
    "version": 3
   },
   "file_extension": ".py",
   "mimetype": "text/x-python",
   "name": "python",
   "nbconvert_exporter": "python",
   "pygments_lexer": "ipython3",
   "version": "3.7.1"
  }
 },
 "nbformat": 4,
 "nbformat_minor": 2
}
