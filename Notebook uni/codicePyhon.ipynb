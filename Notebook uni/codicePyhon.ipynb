{
 "cells": [
  {
   "cell_type": "code",
   "execution_count": 20,
   "metadata": {},
   "outputs": [],
   "source": [
    "# esempi di cicli, stringhe e operazioni tra variabili"
   ]
  },
  {
   "cell_type": "code",
   "execution_count": 33,
   "metadata": {},
   "outputs": [
    {
     "name": "stdout",
     "output_type": "stream",
     "text": [
      "1\n",
      "2\n",
      "3\n",
      "4\n"
     ]
    }
   ],
   "source": [
    "# Ciclo for\n",
    "\n",
    "for i in (1,2,3,4):\n",
    "    print(i)\n",
    "    "
   ]
  },
  {
   "cell_type": "code",
   "execution_count": 36,
   "metadata": {},
   "outputs": [
    {
     "name": "stdout",
     "output_type": "stream",
     "text": [
      "Somma tra stringhe : \n",
      "Hello Giulio \n",
      "\n",
      " Ripetizione :\n",
      "HelloHelloHello\n",
      "\n",
      " Indicizzamento stringhe :\n",
      "l\n",
      "\n",
      " Cercare elemento in stringa : \n",
      "True\n",
      "\n"
     ]
    }
   ],
   "source": [
    "# Stringhe operazioni e definizione\n",
    "\n",
    "string = \"Hello\"\n",
    "name = \" Giulio \"\n",
    "\n",
    "print(\"Somma tra stringhe : \")\n",
    "\n",
    "saluto = string + name\n",
    "\n",
    "print(saluto)\n",
    "\n",
    "print()\n",
    "\n",
    "print(\" Ripetizione :\")\n",
    "\n",
    "print(string*3)\n",
    "\n",
    "print()\n",
    "\n",
    "print(\" Indicizzamento stringhe :\")\n",
    "\n",
    "print(string[3])\n",
    "\n",
    "print()\n",
    "\n",
    "print(\" Cercare elemento in stringa : \")\n",
    "\n",
    "print(\"o\" in string)\n",
    "\n",
    "print()"
   ]
  },
  {
   "cell_type": "code",
   "execution_count": 39,
   "metadata": {},
   "outputs": [
    {
     "name": "stdout",
     "output_type": "stream",
     "text": [
      " la somma tra x e y è : 8\n",
      " la moltiplicazione tra x e y è : 15\n",
      " la divisione tra x e y è : 1.6666666666666667\n"
     ]
    }
   ],
   "source": [
    "# Numeri e Operazioni \n",
    "x = 5 \n",
    "y = 3 \n",
    "\n",
    "summa = x + y\n",
    "mul = x * y \n",
    "div = x / y\n",
    "\n",
    "print(\" la somma tra x e y è : \" + str(summa))\n",
    "print(\" la moltiplicazione tra x e y è : \" + str(mul))\n",
    "print(\" la divisione tra x e y è : \" + str(div))\n",
    "\n",
    "      \n",
    "      \n",
    "      "
   ]
  },
  {
   "cell_type": "code",
   "execution_count": 44,
   "metadata": {},
   "outputs": [
    {
     "name": "stdout",
     "output_type": "stream",
     "text": [
      "elemento di numeri = 0\n",
      "elemento di numeri = 1\n",
      "elemento di numeri = 2\n",
      "elemento di numeri = 3\n",
      "elemento di numeri = 4\n",
      "elemento di numeri = 5\n",
      "\n",
      "elemento di parole = algoritmi\n",
      "elemento di parole = strutture\n",
      "\n",
      "elemento di combino = strutture\n",
      "elemento di combino = strutture\n",
      "elemento di combino = strutture\n",
      "elemento di combino = strutture\n",
      "elemento di combino = strutture\n"
     ]
    }
   ],
   "source": [
    "# Liste\n",
    "\n",
    "numeri = [0, 1, 2, 3, 4, 5]\n",
    "parole = ['algoritmi', 'strutture']\n",
    "combino = [12, 23, ['testa', 'croce']] + parole\n",
    "\n",
    "for element in numeri:\n",
    "    print(\"elemento di numeri = \" + str(element))\n",
    "\n",
    "print()\n",
    "\n",
    "for element in parole:\n",
    "    print(\"elemento di parole = \" + element)\n",
    "    \n",
    "print()\n",
    "\n",
    "for elementi in combino:\n",
    "    print(\"elemento di combino = \" + str(elementi))"
   ]
  },
  {
   "cell_type": "code",
   "execution_count": null,
   "metadata": {},
   "outputs": [],
   "source": []
  }
 ],
 "metadata": {
  "kernelspec": {
   "display_name": "Python 3",
   "language": "python",
   "name": "python3"
  },
  "language_info": {
   "codemirror_mode": {
    "name": "ipython",
    "version": 3
   },
   "file_extension": ".py",
   "mimetype": "text/x-python",
   "name": "python",
   "nbconvert_exporter": "python",
   "pygments_lexer": "ipython3",
   "version": "3.7.1"
  }
 },
 "nbformat": 4,
 "nbformat_minor": 2
}
